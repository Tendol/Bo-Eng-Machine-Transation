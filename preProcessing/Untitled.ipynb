{
 "cells": [
  {
   "cell_type": "markdown",
   "metadata": {},
   "source": [
    "# Keep track of the command line for fairseq "
   ]
  },
  {
   "cell_type": "markdown",
   "metadata": {},
   "source": [
    "### Training"
   ]
  },
  {
   "cell_type": "markdown",
   "metadata": {},
   "source": [
    "fairseq-train data-bin/iwslt17.bo.en.bpe16k/ \n",
    "--max-epoch 10 \n",
    "--ddp-backend=no_c10d \n",
    "--arch transformer \n",
    "--share-decoder-input-output-embed \n",
    "--optimizer adam --adam-betas '(0.9, 0.98)' \n",
    "--lr 5e-4 --lr-scheduler inverse_sqrt \n",
    "--warmup-updates 4000 --warmup-init-lr '1e-07' \n",
    "--label-smoothing 0.1 --criterion label_smoothed_cross_entropy \n",
    "--dropout 0.3 --weight-decay 0.0001 \n",
    "--save-dir checkpoints \n",
    "--max-tokens 900 \n",
    "--update-freq 8"
   ]
  },
  {
   "cell_type": "markdown",
   "metadata": {},
   "source": [
    "epoch 001: 1.81s/it, loss=11.862, nll_loss=11.678\n",
    "epoch 003: 1.86s/it, loss=8.222, nll_loss=7.49, ppl=179.8, wps=3270.9\n"
   ]
  }
 ],
 "metadata": {
  "kernelspec": {
   "display_name": "Python 3",
   "language": "python",
   "name": "python3"
  },
  "language_info": {
   "codemirror_mode": {
    "name": "ipython",
    "version": 3
   },
   "file_extension": ".py",
   "mimetype": "text/x-python",
   "name": "python",
   "nbconvert_exporter": "python",
   "pygments_lexer": "ipython3",
   "version": "3.8.0"
  }
 },
 "nbformat": 4,
 "nbformat_minor": 4
}

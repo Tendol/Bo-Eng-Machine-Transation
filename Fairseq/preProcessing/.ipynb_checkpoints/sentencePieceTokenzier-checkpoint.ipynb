{
 "cells": [
  {
   "cell_type": "code",
   "execution_count": 1,
   "metadata": {},
   "outputs": [],
   "source": [
    "import sentencepiece as spm"
   ]
  },
  {
   "cell_type": "code",
   "execution_count": null,
   "metadata": {},
   "outputs": [],
   "source": [
    "spm.SentencePieceTrainer.train(\n",
    "        input='../data/boMonoData.txt', \n",
    "        model_prefix='m', \n",
    "        vocab_size=16000)\n",
    "#         user_defined_symbols=['སྒྲོ'])"
   ]
  },
  {
   "cell_type": "markdown",
   "metadata": {},
   "source": [
    "We could use user defined symbols to make sure the diactrics are never segmented, and same for vowels on the aplhabets. \n",
    "Problem: If we do that then it always breaks་་བསྟན་ into [བ, སྟ, ན] "
   ]
  },
  {
   "cell_type": "code",
   "execution_count": null,
   "metadata": {
    "scrolled": true
   },
   "outputs": [],
   "source": [
    "sp = spm.SentencePieceProcessor(model_file='m.model')\n",
    "print(sp.encode(['ངའི་མིང་ལ་བསྟན་སྒྲོལ་མ་ཟེར་'], out_type=str))"
   ]
  },
  {
   "cell_type": "markdown",
   "metadata": {},
   "source": [
    "Tiny vitory: using 10000 vocab_size finally tokenized my name correctly. `"
   ]
  }
 ],
 "metadata": {
  "kernelspec": {
   "display_name": "Python 3",
   "language": "python",
   "name": "python3"
  },
  "language_info": {
   "codemirror_mode": {
    "name": "ipython",
    "version": 3
   },
   "file_extension": ".py",
   "mimetype": "text/x-python",
   "name": "python",
   "nbconvert_exporter": "python",
   "pygments_lexer": "ipython3",
   "version": "3.8.0"
  }
 },
 "nbformat": 4,
 "nbformat_minor": 4
}
